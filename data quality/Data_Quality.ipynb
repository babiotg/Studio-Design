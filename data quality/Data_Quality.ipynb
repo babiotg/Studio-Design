{
 "cells": [
  {
   "cell_type": "code",
   "execution_count": 1,
   "id": "520dc353-ba6d-4fa2-b751-e5aa997151f2",
   "metadata": {},
   "outputs": [],
   "source": [
    "import pandas as pd\n",
    "import numpy as np\n",
    "import datetime as dt"
   ]
  },
  {
   "cell_type": "code",
   "execution_count": 2,
   "id": "5386e777-ec79-435f-b2dc-fb43f7e73c18",
   "metadata": {},
   "outputs": [],
   "source": [
    "import logging\n",
    "logger = logging.getLogger()\n",
    "logger.setLevel(logging.DEBUG)"
   ]
  },
  {
   "cell_type": "code",
   "execution_count": 3,
   "id": "f5fb48aa-f6af-4961-abda-178c794c5ea7",
   "metadata": {},
   "outputs": [],
   "source": [
    "#IMPORT E DATA QUALITY YEAR 2019"
   ]
  },
  {
   "cell_type": "code",
   "execution_count": 4,
   "id": "1c7b78d6-0aa6-4da7-9e2f-a6c54312abeb",
   "metadata": {},
   "outputs": [],
   "source": [
    "aa2019=pd.read_excel(\"Data/2019.xls\", header=4)"
   ]
  },
  {
   "cell_type": "code",
   "execution_count": null,
   "id": "ebc1b1ee-f034-49b0-8e0f-6a0d434332dc",
   "metadata": {
    "tags": []
   },
   "outputs": [],
   "source": [
    "aa2019.sample(3)"
   ]
  },
  {
   "cell_type": "code",
   "execution_count": 6,
   "id": "c281fdb1-40b7-454b-bc8c-f52cba6d1534",
   "metadata": {},
   "outputs": [
    {
     "name": "stdout",
     "output_type": "stream",
     "text": [
      "<class 'pandas.core.frame.DataFrame'>\n",
      "RangeIndex: 332 entries, 0 to 331\n",
      "Data columns (total 22 columns):\n",
      " #   Column             Non-Null Count  Dtype         \n",
      "---  ------             --------------  -----         \n",
      " 0   Data               332 non-null    datetime64[ns]\n",
      " 1   Documento          332 non-null    object        \n",
      " 2   Numero             332 non-null    int64         \n",
      " 3   Serie              26 non-null     object        \n",
      " 4   Centro ricavo      0 non-null      float64       \n",
      " 5   Cliente            332 non-null    object        \n",
      " 6   Indirizzo cliente  332 non-null    object        \n",
      " 7   Città              332 non-null    object        \n",
      " 8   Provincia          331 non-null    object        \n",
      " 9   CAP                332 non-null    object        \n",
      " 10  Indirizzo extra    0 non-null      float64       \n",
      " 11  Valuta orig.       332 non-null    object        \n",
      " 12  Categoria/Conto    0 non-null      float64       \n",
      " 13  Codice             280 non-null    object        \n",
      " 14  Nome               332 non-null    object        \n",
      " 15  Quantita           332 non-null    int64         \n",
      " 16  U.M.               0 non-null      float64       \n",
      " 17  Imponibile         332 non-null    float64       \n",
      " 18  Non imponibile     332 non-null    int64         \n",
      " 19  IVA                332 non-null    float64       \n",
      " 20  Aliquota IVA       332 non-null    float64       \n",
      " 21  Codice IVA         8 non-null      object        \n",
      "dtypes: datetime64[ns](1), float64(7), int64(3), object(11)\n",
      "memory usage: 57.2+ KB\n"
     ]
    }
   ],
   "source": [
    "aa2019.info()"
   ]
  },
  {
   "cell_type": "code",
   "execution_count": 7,
   "id": "7de2895d-fb8b-4973-9d4d-cb8caf72d393",
   "metadata": {},
   "outputs": [],
   "source": [
    "def missing_evaluation(dataframe):\n",
    "    '''\n",
    "    missing_evaluation(dataframe)\n",
    "    \n",
    "    Returns a dataframe containing the informations about missing and unique values \n",
    "    for each column on a dataframe passed as a parameter\n",
    "\n",
    "    Parameters: \n",
    "    dataframe: dataframe to analyze\n",
    "    '''\n",
    "    \n",
    "    # Column 'qt_missing': Number of NaN values\n",
    "    df_missing_stats = pd.DataFrame(data=dataframe.isna().sum(), index=dataframe.columns, columns=['qt_missing'])\n",
    "    # Column 'nr_unique_values': Number of unique values\n",
    "    df_missing_stats['qt_unique_values'] = pd.DataFrame(data=dataframe.nunique(), index=dataframe.columns)\n",
    "    # Column 'unique_values': unique values of the attributes\n",
    "    df_missing_stats['unique_values'] = pd.DataFrame(data=dataframe.apply(pd.unique), index=dataframe.columns)\n",
    "    # Column 'perc_missing': percentage of missing values\n",
    "    df_missing_stats['perc_missing'] = pd.DataFrame(data=dataframe.isnull().mean())\n",
    "    return df_missing_stats"
   ]
  },
  {
   "cell_type": "code",
   "execution_count": null,
   "id": "d2af7626-2bc5-419e-9c0c-cda0f3316a7c",
   "metadata": {},
   "outputs": [],
   "source": [
    "aa2019_missing_stats = missing_evaluation(aa2019)\n",
    "aa2019_missing_stats"
   ]
  },
  {
   "cell_type": "code",
   "execution_count": 9,
   "id": "6a16a031-6d98-4c2c-86a7-7bcb631501d9",
   "metadata": {},
   "outputs": [],
   "source": [
    "# Delete columns with all null values\n",
    "aa2019_v2=aa2019.dropna(axis=1, how=\"all\")"
   ]
  },
  {
   "cell_type": "code",
   "execution_count": null,
   "id": "ff1fb1b2-59b2-4bbd-9a39-786bafe5ff65",
   "metadata": {},
   "outputs": [],
   "source": []
  },
  {
   "cell_type": "code",
   "execution_count": null,
   "id": "c07cf732-dcf3-4d30-8287-005f67bcce0e",
   "metadata": {},
   "outputs": [],
   "source": []
  },
  {
   "cell_type": "code",
   "execution_count": null,
   "id": "26a29279-0c90-4392-9e02-0c2e5cf782aa",
   "metadata": {},
   "outputs": [],
   "source": []
  }
 ],
 "metadata": {
  "kernelspec": {
   "display_name": "Python 3 (ipykernel)",
   "language": "python",
   "name": "python3"
  },
  "language_info": {
   "codemirror_mode": {
    "name": "ipython",
    "version": 3
   },
   "file_extension": ".py",
   "mimetype": "text/x-python",
   "name": "python",
   "nbconvert_exporter": "python",
   "pygments_lexer": "ipython3",
   "version": "3.9.12"
  }
 },
 "nbformat": 4,
 "nbformat_minor": 5
}
